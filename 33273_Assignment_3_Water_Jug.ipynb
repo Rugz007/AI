{
 "cells": [
  {
   "cell_type": "markdown",
   "id": "e328e21d",
   "metadata": {},
   "source": [
    "# Assignment 3 - Water Jug Problem\n",
    "## Neil Deshpande\n",
    "### TE-9\n",
    "### 33121\n",
    "### K-9"
   ]
  },
  {
   "cell_type": "code",
   "execution_count": 1,
   "id": "6fc70746",
   "metadata": {},
   "outputs": [],
   "source": [
    "x = 0 \n",
    "y = 0 \n",
    "m = 4\n",
    "n = 3"
   ]
  },
  {
   "cell_type": "code",
   "execution_count": 2,
   "id": "cf289287",
   "metadata": {},
   "outputs": [
    {
     "name": "stdout",
     "output_type": "stream",
     "text": [
      "Initial state = (0,0)\n",
      "Capacities = (4,3)\n",
      "Goal state = (2,y)\n"
     ]
    }
   ],
   "source": [
    "print(\"Initial state = (0,0)\")\n",
    "print(\"Capacities = (4,3)\")\n",
    "print(\"Goal state = (2,y)\")"
   ]
  },
  {
   "cell_type": "code",
   "execution_count": 3,
   "id": "c212815d",
   "metadata": {},
   "outputs": [
    {
     "name": "stdout",
     "output_type": "stream",
     "text": [
      "RULES\n",
      "\n",
      "1. Fill X\n",
      "2. Fill Y\n",
      "3. Empty X\n",
      "4. Empty Y\n",
      "5. Fill Y from X\n",
      "6. Fill X from Y\n",
      "7. Transfer from X to Y\n",
      "8. Transfer from Y to X\n",
      "\n",
      "Enter rule: 2\n",
      "0 3\n",
      "RULES\n",
      "\n",
      "1. Fill X\n",
      "2. Fill Y\n",
      "3. Empty X\n",
      "4. Empty Y\n",
      "5. Fill Y from X\n",
      "6. Fill X from Y\n",
      "7. Transfer from X to Y\n",
      "8. Transfer from Y to X\n",
      "\n",
      "Enter rule: 8\n",
      "3 0\n",
      "RULES\n",
      "\n",
      "1. Fill X\n",
      "2. Fill Y\n",
      "3. Empty X\n",
      "4. Empty Y\n",
      "5. Fill Y from X\n",
      "6. Fill X from Y\n",
      "7. Transfer from X to Y\n",
      "8. Transfer from Y to X\n",
      "\n",
      "Enter rule: 2\n",
      "3 3\n",
      "RULES\n",
      "\n",
      "1. Fill X\n",
      "2. Fill Y\n",
      "3. Empty X\n",
      "4. Empty Y\n",
      "5. Fill Y from X\n",
      "6. Fill X from Y\n",
      "7. Transfer from X to Y\n",
      "8. Transfer from Y to X\n",
      "\n",
      "Enter rule: 6\n",
      "4 2\n",
      "RULES\n",
      "\n",
      "1. Fill X\n",
      "2. Fill Y\n",
      "3. Empty X\n",
      "4. Empty Y\n",
      "5. Fill Y from X\n",
      "6. Fill X from Y\n",
      "7. Transfer from X to Y\n",
      "8. Transfer from Y to X\n",
      "\n",
      "Enter rule: 3\n",
      "0 2\n",
      "RULES\n",
      "\n",
      "1. Fill X\n",
      "2. Fill Y\n",
      "3. Empty X\n",
      "4. Empty Y\n",
      "5. Fill Y from X\n",
      "6. Fill X from Y\n",
      "7. Transfer from X to Y\n",
      "8. Transfer from Y to X\n",
      "\n",
      "Enter rule: 8\n",
      "2 0\n"
     ]
    }
   ],
   "source": [
    "while x != 2:\n",
    "  r = input(\"RULES\\n\\n1. Fill X\\n2. Fill Y\\n3. Empty X\\n4. Empty Y\\n5. Fill Y from X\\n6. Fill X from Y\\n7. Transfer from X to Y\\n8. Transfer from Y to X\\n\\nEnter rule: \")\n",
    "  r = int(r)\n",
    "  if(r == 1):\n",
    "    x = m\n",
    "  elif(r == 2):\n",
    "    y = n\n",
    "  elif(r == 3):\n",
    "    x = 0\n",
    "  elif(r == 4):\n",
    "    y = 0\n",
    "  elif(r == 5):\n",
    "    t = n - y\n",
    "    y = n\n",
    "    x -= t\n",
    "  elif(r == 6):\n",
    "    t = m - x\n",
    "    x = m\n",
    "    y -= t\n",
    "  elif(r == 7):\n",
    "    y += x\n",
    "    x = 0\n",
    "  elif(r == 8):\n",
    "    x += y\n",
    "    y = 0\n",
    "  print (x, y)"
   ]
  },
  {
   "cell_type": "code",
   "execution_count": null,
   "id": "14d58059",
   "metadata": {},
   "outputs": [],
   "source": []
  }
 ],
 "metadata": {
  "kernelspec": {
   "display_name": "Python 3",
   "language": "python",
   "name": "python3"
  },
  "language_info": {
   "codemirror_mode": {
    "name": "ipython",
    "version": 3
   },
   "file_extension": ".py",
   "mimetype": "text/x-python",
   "name": "python",
   "nbconvert_exporter": "python",
   "pygments_lexer": "ipython3",
   "version": "3.8.8"
  }
 },
 "nbformat": 4,
 "nbformat_minor": 5
}
