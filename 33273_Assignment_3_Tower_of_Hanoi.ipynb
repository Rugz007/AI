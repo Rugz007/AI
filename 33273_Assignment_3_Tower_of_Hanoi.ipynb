{
 "cells": [
  {
   "cell_type": "markdown",
   "metadata": {},
   "source": [
    "# Assignment 3 - Tower of Hanoi\n",
    "## Rugved Somwanshi\n",
    "### TE-10\n",
    "### 33273\n",
    "### K-10"
   ]
  },
  {
   "cell_type": "code",
   "execution_count": 1,
   "metadata": {},
   "outputs": [],
   "source": [
    "def Hanoi(n, A, B, C):\n",
    "    count = 1\n",
    "    if n==1 :\n",
    "        print(\"Move disk \", n, \" from \" , A, \" to \", C)\n",
    "        return count\n",
    "    else :\n",
    "        count += Hanoi(n-1, A, C, B)\n",
    "        print(\"Move disk \", n, \" from \" , A, \" to \", C)\n",
    "        count += Hanoi(n-1, B, A, C)\n",
    "        return count"
   ]
  },
  {
   "cell_type": "code",
   "execution_count": 2,
   "metadata": {},
   "outputs": [
    {
     "name": "stdout",
     "output_type": "stream",
     "text": [
      "Move disk  1  from  A  to  C\n",
      "Move disk  2  from  A  to  B\n",
      "Move disk  1  from  C  to  B\n",
      "Move disk  3  from  A  to  C\n",
      "Move disk  1  from  B  to  A\n",
      "Move disk  2  from  B  to  C\n",
      "Move disk  1  from  A  to  C\n"
     ]
    },
    {
     "data": {
      "text/plain": [
       "7"
      ]
     },
     "execution_count": 2,
     "metadata": {},
     "output_type": "execute_result"
    }
   ],
   "source": [
    "Hanoi(3,'A','B','C')"
   ]
  },
  {
   "cell_type": "code",
   "execution_count": 3,
   "metadata": {},
   "outputs": [
    {
     "name": "stdout",
     "output_type": "stream",
     "text": [
      "Move disk  1  from  Tower 1  to  Tower 2\n",
      "Move disk  2  from  Tower 1  to  Tower 3\n",
      "Move disk  1  from  Tower 2  to  Tower 3\n",
      "Move disk  3  from  Tower 1  to  Tower 2\n",
      "Move disk  1  from  Tower 3  to  Tower 1\n",
      "Move disk  2  from  Tower 3  to  Tower 2\n",
      "Move disk  1  from  Tower 1  to  Tower 2\n",
      "Move disk  4  from  Tower 1  to  Tower 3\n",
      "Move disk  1  from  Tower 2  to  Tower 3\n",
      "Move disk  2  from  Tower 2  to  Tower 1\n",
      "Move disk  1  from  Tower 3  to  Tower 1\n",
      "Move disk  3  from  Tower 2  to  Tower 3\n",
      "Move disk  1  from  Tower 1  to  Tower 2\n",
      "Move disk  2  from  Tower 1  to  Tower 3\n",
      "Move disk  1  from  Tower 2  to  Tower 3\n"
     ]
    },
    {
     "data": {
      "text/plain": [
       "15"
      ]
     },
     "execution_count": 3,
     "metadata": {},
     "output_type": "execute_result"
    }
   ],
   "source": [
    "Hanoi(4, \"Tower 1\", \"Tower 2\", \"Tower 3\")"
   ]
  },
  {
   "cell_type": "code",
   "execution_count": 4,
   "metadata": {},
   "outputs": [
    {
     "name": "stdout",
     "output_type": "stream",
     "text": [
      "Enter number of rings : 5\n",
      "Move disk  1  from  A  to  C\n",
      "Move disk  2  from  A  to  B\n",
      "Move disk  1  from  C  to  B\n",
      "Move disk  3  from  A  to  C\n",
      "Move disk  1  from  B  to  A\n",
      "Move disk  2  from  B  to  C\n",
      "Move disk  1  from  A  to  C\n",
      "Move disk  4  from  A  to  B\n",
      "Move disk  1  from  C  to  B\n",
      "Move disk  2  from  C  to  A\n",
      "Move disk  1  from  B  to  A\n",
      "Move disk  3  from  C  to  B\n",
      "Move disk  1  from  A  to  C\n",
      "Move disk  2  from  A  to  B\n",
      "Move disk  1  from  C  to  B\n",
      "Move disk  5  from  A  to  C\n",
      "Move disk  1  from  B  to  A\n",
      "Move disk  2  from  B  to  C\n",
      "Move disk  1  from  A  to  C\n",
      "Move disk  3  from  B  to  A\n",
      "Move disk  1  from  C  to  B\n",
      "Move disk  2  from  C  to  A\n",
      "Move disk  1  from  B  to  A\n",
      "Move disk  4  from  B  to  C\n",
      "Move disk  1  from  A  to  C\n",
      "Move disk  2  from  A  to  B\n",
      "Move disk  1  from  C  to  B\n",
      "Move disk  3  from  A  to  C\n",
      "Move disk  1  from  B  to  A\n",
      "Move disk  2  from  B  to  C\n",
      "Move disk  1  from  A  to  C\n"
     ]
    },
    {
     "data": {
      "text/plain": [
       "31"
      ]
     },
     "execution_count": 4,
     "metadata": {},
     "output_type": "execute_result"
    }
   ],
   "source": [
    "n = int(input(\"Enter number of rings : \"))\n",
    "Hanoi(n,'A','B','C')"
   ]
  },
  {
   "cell_type": "code",
   "execution_count": 5,
   "metadata": {},
   "outputs": [
    {
     "name": "stdout",
     "output_type": "stream",
     "text": [
      "Enter number of rings : 6\n",
      "Move disk  1  from  A  to  B\n",
      "Move disk  2  from  A  to  C\n",
      "Move disk  1  from  B  to  C\n",
      "Move disk  3  from  A  to  B\n",
      "Move disk  1  from  C  to  A\n",
      "Move disk  2  from  C  to  B\n",
      "Move disk  1  from  A  to  B\n",
      "Move disk  4  from  A  to  C\n",
      "Move disk  1  from  B  to  C\n",
      "Move disk  2  from  B  to  A\n",
      "Move disk  1  from  C  to  A\n",
      "Move disk  3  from  B  to  C\n",
      "Move disk  1  from  A  to  B\n",
      "Move disk  2  from  A  to  C\n",
      "Move disk  1  from  B  to  C\n",
      "Move disk  5  from  A  to  B\n",
      "Move disk  1  from  C  to  A\n",
      "Move disk  2  from  C  to  B\n",
      "Move disk  1  from  A  to  B\n",
      "Move disk  3  from  C  to  A\n",
      "Move disk  1  from  B  to  C\n",
      "Move disk  2  from  B  to  A\n",
      "Move disk  1  from  C  to  A\n",
      "Move disk  4  from  C  to  B\n",
      "Move disk  1  from  A  to  B\n",
      "Move disk  2  from  A  to  C\n",
      "Move disk  1  from  B  to  C\n",
      "Move disk  3  from  A  to  B\n",
      "Move disk  1  from  C  to  A\n",
      "Move disk  2  from  C  to  B\n",
      "Move disk  1  from  A  to  B\n",
      "Move disk  6  from  A  to  C\n",
      "Move disk  1  from  B  to  C\n",
      "Move disk  2  from  B  to  A\n",
      "Move disk  1  from  C  to  A\n",
      "Move disk  3  from  B  to  C\n",
      "Move disk  1  from  A  to  B\n",
      "Move disk  2  from  A  to  C\n",
      "Move disk  1  from  B  to  C\n",
      "Move disk  4  from  B  to  A\n",
      "Move disk  1  from  C  to  A\n",
      "Move disk  2  from  C  to  B\n",
      "Move disk  1  from  A  to  B\n",
      "Move disk  3  from  C  to  A\n",
      "Move disk  1  from  B  to  C\n",
      "Move disk  2  from  B  to  A\n",
      "Move disk  1  from  C  to  A\n",
      "Move disk  5  from  B  to  C\n",
      "Move disk  1  from  A  to  B\n",
      "Move disk  2  from  A  to  C\n",
      "Move disk  1  from  B  to  C\n",
      "Move disk  3  from  A  to  B\n",
      "Move disk  1  from  C  to  A\n",
      "Move disk  2  from  C  to  B\n",
      "Move disk  1  from  A  to  B\n",
      "Move disk  4  from  A  to  C\n",
      "Move disk  1  from  B  to  C\n",
      "Move disk  2  from  B  to  A\n",
      "Move disk  1  from  C  to  A\n",
      "Move disk  3  from  B  to  C\n",
      "Move disk  1  from  A  to  B\n",
      "Move disk  2  from  A  to  C\n",
      "Move disk  1  from  B  to  C\n"
     ]
    },
    {
     "data": {
      "text/plain": [
       "63"
      ]
     },
     "execution_count": 5,
     "metadata": {},
     "output_type": "execute_result"
    }
   ],
   "source": [
    "n = int(input(\"Enter number of rings : \"))\n",
    "Hanoi(n,'A','B','C')"
   ]
  },
  {
   "cell_type": "code",
   "execution_count": null,
   "metadata": {},
   "outputs": [],
   "source": []
  }
 ],
 "metadata": {
  "interpreter": {
   "hash": "7a542ca580817fc4dd55327026e074e2fa0cd470fc5dee9350c2d8b13822db8d"
  },
  "kernelspec": {
   "display_name": "Python 3",
   "language": "python",
   "name": "python3"
  },
  "language_info": {
   "codemirror_mode": {
    "name": "ipython",
    "version": 3
   },
   "file_extension": ".py",
   "mimetype": "text/x-python",
   "name": "python",
   "nbconvert_exporter": "python",
   "pygments_lexer": "ipython3",
   "version": "3.8.8"
  }
 },
 "nbformat": 4,
 "nbformat_minor": 2
}
