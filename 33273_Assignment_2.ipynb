{
 "cells": [
  {
   "cell_type": "markdown",
   "id": "0f2c8960",
   "metadata": {},
   "source": [
    "# Assignment 2\n",
    "## Rugved Somwanshi\n",
    "### TE-10\n",
    "### 33273\n",
    "### K-10"
   ]
  },
  {
   "cell_type": "code",
   "execution_count": 1,
   "id": "a4db451d",
   "metadata": {},
   "outputs": [],
   "source": [
    "import random\n",
    "from array import array"
   ]
  },
  {
   "cell_type": "code",
   "execution_count": 2,
   "id": "0e810660",
   "metadata": {},
   "outputs": [],
   "source": [
    "board = [[0,0,0,0,0,0,0,0],[0,0,0,0,0,0,0,0],[0,0,0,0,0,0,0,0],[0,0,0,0,0,0,0,0],[0,0,0,0,0,0,0,0],[0,0,0,0,0,0,0,0],[0,0,0,0,0,0,0,0],[0,0,0,0,0,0,0,0]]\n",
    "\n",
    "neighbour = [[0,0,0,0,0,0,0,0],[0,0,0,0,0,0,0,0],[0,0,0,0,0,0,0,0],[0,0,0,0,0,0,0,0],[0,0,0,0,0,0,0,0],[0,0,0,0,0,0,0,0],[0,0,0,0,0,0,0,0],[0,0,0,0,0,0,0,0]]\n",
    "\n",
    "queens = [0,0,0,0,0,0,0,0]"
   ]
  },
  {
   "cell_type": "code",
   "execution_count": 3,
   "id": "c9afd26c",
   "metadata": {},
   "outputs": [],
   "source": [
    "def collision_count(column,row):\n",
    "    coll = 0\n",
    "\n",
    "    for j in range(8):\n",
    "        if j == row:\n",
    "            continue\n",
    "        if board[column][j] == 1 :\n",
    "            coll += 1\n",
    "\n",
    "    while(column < 7 and row < 7):\n",
    "        row += 1\n",
    "        column +=1\n",
    "        if board[column][row] == 1:\n",
    "            coll += 1\n",
    "\n",
    "    while(column > 0 and row > 0):\n",
    "        row -= 1\n",
    "        column -=1\n",
    "        if board[column][row] == 1:\n",
    "            coll += 1\n",
    "\n",
    "    while(column > 0 and row < 7):\n",
    "        row += 1\n",
    "        column -=1\n",
    "        if board[column][row] == 1:\n",
    "            coll += 1\n",
    "\n",
    "    while(column < 7 and row > 0):\n",
    "        row -= 1\n",
    "        column +=1\n",
    "        if board[column][row] == 1:\n",
    "            coll += 1\n",
    "\n",
    "    return coll"
   ]
  },
  {
   "cell_type": "code",
   "execution_count": 4,
   "id": "486864d3",
   "metadata": {},
   "outputs": [],
   "source": [
    "def totalcoll():\n",
    "    totcoll = 0\n",
    "    for i in range(8):\n",
    "        totcoll += collision_count(i,queens[i])\n",
    "    return totcoll"
   ]
  },
  {
   "cell_type": "code",
   "execution_count": 5,
   "id": "15d04cc5",
   "metadata": {},
   "outputs": [
    {
     "ename": "SyntaxError",
     "evalue": "invalid character in identifier (<ipython-input-5-0ef248275b0f>, line 5)",
     "output_type": "error",
     "traceback": [
      "\u001b[0;36m  File \u001b[0;32m\"<ipython-input-5-0ef248275b0f>\"\u001b[0;36m, line \u001b[0;32m5\u001b[0m\n\u001b[0;31m    totalcollision = totalcoll()\u001b[0m\n\u001b[0m                             ^\u001b[0m\n\u001b[0;31mSyntaxError\u001b[0m\u001b[0;31m:\u001b[0m invalid character in identifier\n"
     ]
    }
   ],
   "source": [
    "while True:\n",
    "    for i in range(8):\n",
    "        queens[i] = random.randrange(0,8)\n",
    "        board[i][queens[i]] = 1\n",
    "    totalcollision = totalcoll()"
   ]
  },
  {
   "cell_type": "code",
   "execution_count": null,
   "id": "a74f67df",
   "metadata": {},
   "outputs": [],
   "source": [
    "while True:\n",
    "    for i in range(8):\n",
    "        oldqueen = queens[i]\n",
    "        for j in range(8):\n",
    "            queens[i] = j\n",
    "            neighbour[i][j] = totalcoll()\n",
    "        queens[i] = oldqueen"
   ]
  },
  {
   "cell_type": "code",
   "execution_count": null,
   "id": "d7ce8502",
   "metadata": {},
   "outputs": [],
   "source": [
    "min = neighbour[0][0]\n",
    "minqueencol = 0\n",
    "minqueenrow = 0\n",
    "for i in range(8):\n",
    "    for j in range(8):\n",
    "        if(neighbour[i][j]<min):\n",
    "            min = neighbour[i][j]\n",
    "            minqueenrow = j\n",
    "            minqueencol = i\n",
    "\n",
    "    if min<totalcollision:\n",
    "        totalcollision = min\n",
    "        queens[minqueencol] = minqueenrow\n",
    "    else:\n",
    "        break\n",
    "\n",
    "    if totalcollision == 0:\n",
    "                break\n",
    "\n",
    "for i in range(8):\n",
    "    for j in range(8):\n",
    "        print(board[i][j])"
   ]
  }
 ],
 "metadata": {
  "kernelspec": {
   "display_name": "Python 3",
   "language": "python",
   "name": "python3"
  },
  "language_info": {
   "codemirror_mode": {
    "name": "ipython",
    "version": 3
   },
   "file_extension": ".py",
   "mimetype": "text/x-python",
   "name": "python",
   "nbconvert_exporter": "python",
   "pygments_lexer": "ipython3",
   "version": "3.8.8"
  }
 },
 "nbformat": 4,
 "nbformat_minor": 5
}
